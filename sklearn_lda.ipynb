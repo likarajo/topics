{
 "cells": [
  {
   "cell_type": "markdown",
   "metadata": {},
   "source": [
    "**Import data**"
   ]
  },
  {
   "cell_type": "code",
   "execution_count": 1,
   "metadata": {},
   "outputs": [
    {
     "name": "stdout",
     "output_type": "stream",
     "text": [
      "Number of news:  60\n"
     ]
    },
    {
     "data": {
      "text/html": [
       "<div>\n",
       "<style scoped>\n",
       "    .dataframe tbody tr th:only-of-type {\n",
       "        vertical-align: middle;\n",
       "    }\n",
       "\n",
       "    .dataframe tbody tr th {\n",
       "        vertical-align: top;\n",
       "    }\n",
       "\n",
       "    .dataframe thead th {\n",
       "        text-align: right;\n",
       "    }\n",
       "</style>\n",
       "<table border=\"1\" class=\"dataframe\">\n",
       "  <thead>\n",
       "    <tr style=\"text-align: right;\">\n",
       "      <th></th>\n",
       "      <th>Text</th>\n",
       "    </tr>\n",
       "  </thead>\n",
       "  <tbody>\n",
       "    <tr>\n",
       "      <th>0</th>\n",
       "      <td>Lauren London broke her silence Tuesday and pa...</td>\n",
       "    </tr>\n",
       "    <tr>\n",
       "      <th>1</th>\n",
       "      <td>Eric Holder, the man police think fatally shot...</td>\n",
       "    </tr>\n",
       "    <tr>\n",
       "      <th>2</th>\n",
       "      <td>Hours after Nipsey Hussle was gunned down in t...</td>\n",
       "    </tr>\n",
       "    <tr>\n",
       "      <th>3</th>\n",
       "      <td>Music brought Nipsey Hussle together with his ...</td>\n",
       "    </tr>\n",
       "    <tr>\n",
       "      <th>4</th>\n",
       "      <td>While celebrating her victory in becoming the ...</td>\n",
       "    </tr>\n",
       "  </tbody>\n",
       "</table>\n",
       "</div>"
      ],
      "text/plain": [
       "                                                Text\n",
       "0  Lauren London broke her silence Tuesday and pa...\n",
       "1  Eric Holder, the man police think fatally shot...\n",
       "2  Hours after Nipsey Hussle was gunned down in t...\n",
       "3  Music brought Nipsey Hussle together with his ...\n",
       "4  While celebrating her victory in becoming the ..."
      ]
     },
     "execution_count": 1,
     "metadata": {},
     "output_type": "execute_result"
    }
   ],
   "source": [
    "import pandas as pd\n",
    "import os\n",
    "\n",
    "with open('data/news/news.txt') as newsfile:\n",
    "    newsdata = newsfile.read()\n",
    "    newsdata = newsdata.replace('\\n', '').replace('(CNN) - ', '\\n')\n",
    "\n",
    "with open('temp.txt', 'a+') as f:\n",
    "    for line in newsdata:\n",
    "        f.write(line)\n",
    "        \n",
    "news = pd.read_csv('temp.txt', delimiter=\"\\t\", header=None, names=['Text'])\n",
    "os.remove(\"temp.txt\")\n",
    "\n",
    "print('Number of news: ', news.shape[0])\n",
    "news.head()"
   ]
  },
  {
   "cell_type": "markdown",
   "metadata": {},
   "source": [
    "**Vectorize documents with the vocabulary matrix of all words**\n",
    "* Use *CountVectorizer*\n",
    "* Include those words that appear in less than 80% of the document. (max_df)\n",
    "* Include those words that appear in atleast 2 documents. (min_df)\n",
    "* Remove English stopwords"
   ]
  },
  {
   "cell_type": "code",
   "execution_count": 2,
   "metadata": {},
   "outputs": [
    {
     "data": {
      "text/plain": [
       "<60x2627 sparse matrix of type '<class 'numpy.int64'>'\n",
       "\twith 12001 stored elements in Compressed Sparse Row format>"
      ]
     },
     "execution_count": 2,
     "metadata": {},
     "output_type": "execute_result"
    }
   ],
   "source": [
    "from sklearn.feature_extraction.text import CountVectorizer\n",
    "\n",
    "count_vectorizer = CountVectorizer(max_df=0.8, min_df=2, stop_words='english')\n",
    "doc_term_matrix = count_vectorizer.fit_transform(news['Text'].values.astype('U'))\n",
    "doc_term_matrix"
   ]
  },
  {
   "cell_type": "markdown",
   "metadata": {},
   "source": [
    "**Create topic model**\n",
    "* Use LDA on the vectorized documents\n",
    "* Divide into 5 topics. (n_components)\n",
    "* Calculate probability distribution of each word in vocabulary"
   ]
  },
  {
   "cell_type": "code",
   "execution_count": 3,
   "metadata": {},
   "outputs": [
    {
     "data": {
      "text/plain": [
       "LatentDirichletAllocation(batch_size=128, doc_topic_prior=None,\n",
       "                          evaluate_every=-1, learning_decay=0.7,\n",
       "                          learning_method='batch', learning_offset=10.0,\n",
       "                          max_doc_update_iter=100, max_iter=10,\n",
       "                          mean_change_tol=0.001, n_components=5, n_jobs=None,\n",
       "                          perp_tol=0.1, random_state=42, topic_word_prior=None,\n",
       "                          total_samples=1000000.0, verbose=0)"
      ]
     },
     "execution_count": 3,
     "metadata": {},
     "output_type": "execute_result"
    }
   ],
   "source": [
    "from sklearn.decomposition import LatentDirichletAllocation\n",
    "\n",
    "LDA = LatentDirichletAllocation(n_components=5, random_state=42)\n",
    "LDA.fit(doc_term_matrix)"
   ]
  },
  {
   "cell_type": "markdown",
   "metadata": {},
   "source": [
    "**Get each topic with its top 10 highest probability words**\n",
    "* Use *components_* to fetch a topic.\n",
    "* Use *argsort()* to sort the words based on probability values and fetch their indices.\n",
    "* Use *get_feature_names()* to retrieve the words from vectorizer (vocabulary) using the indices"
   ]
  },
  {
   "cell_type": "code",
   "execution_count": 4,
   "metadata": {},
   "outputs": [
    {
     "name": "stdout",
     "output_type": "stream",
     "text": [
      "Top 10 words for Topic 1:\n",
      "carolina\n",
      "rowland\n",
      "vehicle\n",
      "time\n",
      "cnn\n",
      "ride\n",
      "columbia\n",
      "police\n",
      "uber\n",
      "josephson\n",
      "\n",
      "\n",
      "Top 10 words for Topic 2:\n",
      "counsel\n",
      "justice\n",
      "border\n",
      "president\n",
      "poll\n",
      "report\n",
      "investigation\n",
      "barr\n",
      "mueller\n",
      "trump\n",
      "\n",
      "\n",
      "Top 10 words for Topic 3:\n",
      "think\n",
      "step\n",
      "prison\n",
      "act\n",
      "lightfoot\n",
      "city\n",
      "president\n",
      "mayor\n",
      "buttigieg\n",
      "people\n",
      "\n",
      "\n",
      "Top 10 words for Topic 4:\n",
      "kline\n",
      "newbold\n",
      "told\n",
      "committee\n",
      "nipsey\n",
      "police\n",
      "cummings\n",
      "security\n",
      "white\n",
      "house\n",
      "\n",
      "\n",
      "Top 10 words for Topic 5:\n",
      "white\n",
      "republican\n",
      "women\n",
      "border\n",
      "care\n",
      "cnn\n",
      "health\n",
      "house\n",
      "president\n",
      "trump\n",
      "\n",
      "\n"
     ]
    }
   ],
   "source": [
    "for i, topic in enumerate(LDA.components_):\n",
    "    print(f'Top 10 words for Topic {i+1}:')\n",
    "    for j in (topic.argsort()[-10:]):\n",
    "        print(count_vectorizer.get_feature_names()[j])\n",
    "    print('\\n')"
   ]
  },
  {
   "cell_type": "markdown",
   "metadata": {},
   "source": [
    "**Predict Topic for news text**\n",
    "* Use *argmax(axis=1)* to get the topic with max probability"
   ]
  },
  {
   "cell_type": "code",
   "execution_count": 5,
   "metadata": {},
   "outputs": [
    {
     "data": {
      "text/html": [
       "<div>\n",
       "<style scoped>\n",
       "    .dataframe tbody tr th:only-of-type {\n",
       "        vertical-align: middle;\n",
       "    }\n",
       "\n",
       "    .dataframe tbody tr th {\n",
       "        vertical-align: top;\n",
       "    }\n",
       "\n",
       "    .dataframe thead th {\n",
       "        text-align: right;\n",
       "    }\n",
       "</style>\n",
       "<table border=\"1\" class=\"dataframe\">\n",
       "  <thead>\n",
       "    <tr style=\"text-align: right;\">\n",
       "      <th></th>\n",
       "      <th>Text</th>\n",
       "      <th>Topic</th>\n",
       "    </tr>\n",
       "  </thead>\n",
       "  <tbody>\n",
       "    <tr>\n",
       "      <th>0</th>\n",
       "      <td>Lauren London broke her silence Tuesday and pa...</td>\n",
       "      <td>3</td>\n",
       "    </tr>\n",
       "    <tr>\n",
       "      <th>1</th>\n",
       "      <td>Eric Holder, the man police think fatally shot...</td>\n",
       "      <td>3</td>\n",
       "    </tr>\n",
       "    <tr>\n",
       "      <th>2</th>\n",
       "      <td>Hours after Nipsey Hussle was gunned down in t...</td>\n",
       "      <td>3</td>\n",
       "    </tr>\n",
       "    <tr>\n",
       "      <th>3</th>\n",
       "      <td>Music brought Nipsey Hussle together with his ...</td>\n",
       "      <td>3</td>\n",
       "    </tr>\n",
       "    <tr>\n",
       "      <th>4</th>\n",
       "      <td>While celebrating her victory in becoming the ...</td>\n",
       "      <td>2</td>\n",
       "    </tr>\n",
       "  </tbody>\n",
       "</table>\n",
       "</div>"
      ],
      "text/plain": [
       "                                                Text  Topic\n",
       "0  Lauren London broke her silence Tuesday and pa...      3\n",
       "1  Eric Holder, the man police think fatally shot...      3\n",
       "2  Hours after Nipsey Hussle was gunned down in t...      3\n",
       "3  Music brought Nipsey Hussle together with his ...      3\n",
       "4  While celebrating her victory in becoming the ...      2"
      ]
     },
     "execution_count": 5,
     "metadata": {},
     "output_type": "execute_result"
    }
   ],
   "source": [
    "news_topics = LDA.transform(doc_term_matrix)\n",
    "news_topics.shape\n",
    "news['Topic'] = news_topics.argmax(axis=1)\n",
    "news.head()"
   ]
  }
 ],
 "metadata": {
  "kernelspec": {
   "display_name": "Python 3",
   "language": "python",
   "name": "python3"
  },
  "language_info": {
   "codemirror_mode": {
    "name": "ipython",
    "version": 3
   },
   "file_extension": ".py",
   "mimetype": "text/x-python",
   "name": "python",
   "nbconvert_exporter": "python",
   "pygments_lexer": "ipython3",
   "version": "3.7.5"
  }
 },
 "nbformat": 4,
 "nbformat_minor": 2
}
